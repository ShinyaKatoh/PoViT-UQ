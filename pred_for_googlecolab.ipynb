{
  "nbformat": 4,
  "nbformat_minor": 0,
  "metadata": {
    "colab": {
      "provenance": [],
      "gpuType": "T4",
      "authorship_tag": "ABX9TyO36AcA1dXSYTsdq5YAhiju",
      "include_colab_link": true
    },
    "kernelspec": {
      "name": "python3",
      "display_name": "Python 3"
    },
    "language_info": {
      "name": "python"
    },
    "accelerator": "GPU"
  },
  "cells": [
    {
      "cell_type": "markdown",
      "metadata": {
        "id": "view-in-github",
        "colab_type": "text"
      },
      "source": [
        "<a href=\"https://colab.research.google.com/github/ShinyaKatoh/PoViT-UQ/blob/main/pred_for_googlecolab.ipynb\" target=\"_parent\"><img src=\"https://colab.research.google.com/assets/colab-badge.svg\" alt=\"Open In Colab\"/></a>"
      ]
    },
    {
      "cell_type": "code",
      "execution_count": null,
      "metadata": {
        "id": "LbXuirlUBDuO"
      },
      "outputs": [],
      "source": [
        "!git clone https://github.com/ShinyaKatoh/PoViT-UQ\n",
        "!pip install einops\n",
        "!pip install torchinfo"
      ]
    },
    {
      "cell_type": "code",
      "source": [
        "import os\n",
        "import sys\n",
        "import math\n",
        "import glob\n",
        "import matplotlib.pyplot as plt\n",
        "\n",
        "import numpy as np\n",
        "import pandas as pd\n",
        "\n",
        "import torch\n",
        "import torch.nn as nn\n",
        "import torch.nn.functional as F\n",
        "from einops import rearrange\n",
        "from scipy.signal import find_peaks\n",
        "\n",
        "import seaborn as sns"
      ],
      "metadata": {
        "id": "ukOxEHebBaz2"
      },
      "execution_count": null,
      "outputs": []
    },
    {
      "cell_type": "code",
      "source": [
        "# Model Definition\n",
        "device = torch.device('cuda')\n",
        "\n",
        "sys.path.append('/content/PoViT-UQ/PoViT/')\n",
        "from model_PoViT import Model\n",
        "sys.path.pop()\n",
        "\n",
        "emb_dim = 64\n",
        "kernel_size = 16\n",
        "ds_kernel_size= 9\n",
        "ff_kernel_size= 9\n",
        "seg_kernel_size= 9\n",
        "stride = 1\n",
        "block_num = 7\n",
        "head_num = 4\n",
        "dropout_ratio = 0.3\n",
        "\n",
        "# Loading 100 Hz data and model weights\n",
        "sf = 0.01 # Sampling Rate\n",
        "data = np.load('/content/PoViT-UQ/data/test_data_100Hz.npz')\n",
        "input_data = data['data']\n",
        "label_polality = data['label1']\n",
        "label_arrival = data['label2']\n",
        "\n",
        "length = 256\n",
        "model = Model(in_length=length, kernel_size=kernel_size, ds_kernel_size=ds_kernel_size, ff_kernel_size=ff_kernel_size, seg_kernel_size=seg_kernel_size, stride=stride, head_num=head_num, emb_dim=emb_dim, num_blocks=block_num, dropout_ratio=dropout_ratio)\n",
        "model.load_state_dict(torch.load('/content/PoViT-UQ/PoViT/model_100Hz.pth', map_location=device))\n",
        "model.eval()\n",
        "model.to(device)\n",
        "\n",
        "# Loading 250 Hz data and model weights\n",
        "sf = 0.004 # Sampling Rate\n",
        "data = np.load('/content/PoViT-UQ/data/test_data_250Hz.npz')\n",
        "input_data = data['data']\n",
        "label_polality = data['label1']\n",
        "label_arrival = data['label2']\n",
        "\n",
        "length = 512\n",
        "model = Model(in_length=length, kernel_size=kernel_size, ds_kernel_size=ds_kernel_size, ff_kernel_size=ff_kernel_size, seg_kernel_size=seg_kernel_size, stride=stride, head_num=head_num, emb_dim=emb_dim, num_blocks=block_num, dropout_ratio=dropout_ratio)\n",
        "model.load_state_dict(torch.load('/content/PoViT-UQ/PoViT/model_250Hz.pth', map_location=device))\n",
        "model.eval()\n",
        "model.to(device)\n",
        "\n",
        "print(\"Input_data shape:\", input_data.shape)"
      ],
      "metadata": {
        "id": "CE81XA5aF7Fi"
      },
      "execution_count": null,
      "outputs": []
    },
    {
      "cell_type": "code",
      "source": [
        "for i in range(input_data.shape[0]):\n",
        "  # Data Preparation for Monte Carlo Dropout with 100 Iterations\n",
        "  mcd_input = torch.from_numpy(np.tile(input_data[i:i+1,:,:], (100, 1, 1)).astype('float32'))\n",
        "\n",
        "  # Prediction\n",
        "  with torch.no_grad():\n",
        "    output1, output2 = model(mcd_input.to(device))\n",
        "\n",
        "    pred_polarity = output1.cpu().numpy() # P-wave first motion Polarity\n",
        "    pred_arrival = output2.cpu().numpy()  # P-wave Arrival time\n",
        "\n",
        "  if label_polality[i] == 0:\n",
        "    true_pola = 'Up'\n",
        "  elif label_polality[i] == 1:\n",
        "    true_pola = 'Down'\n",
        "  elif label_polality[i] == 2:\n",
        "    true_pola = 'Noise'\n",
        "\n",
        "  true_arrival = np.argmax(label_arrival[i,0])\n",
        "\n",
        "  pola_median = np.median(pred_polarity, axis=0)\n",
        "  max_index = np.argmax(pola_median)\n",
        "\n",
        "  if max_index == 0:\n",
        "    pred_pola = 'Up'\n",
        "  elif max_index == 1:\n",
        "    pred_pola = 'Down'\n",
        "  elif max_index == 2:\n",
        "    pred_pola = 'Noise'\n",
        "\n",
        "  Q1 = np.percentile(pred_polarity[:,max_index], 25)\n",
        "  Q3 = np.percentile(pred_polarity[:,max_index], 75)\n",
        "  IQR = Q3 - Q1 # IQR indicates the amount of uncertainty.\n",
        "\n",
        "  pred_arrival_index = np.median(np.argmax(pred_arrival[:, 0, :], axis=1))\n",
        "\n",
        "  lapse_time = np.arange(input_data[i:i+1,:,:].shape[-1])*sf\n",
        "\n",
        "  # Plot result\n",
        "\n",
        "  fig, axs = plt.subplots(2,1,figsize=(8,4))\n",
        "  axs[0].plot(lapse_time, input_data[i,0,:], c='black', lw=0.6)\n",
        "\n",
        "  for j in range(pred_arrival.shape[0]):\n",
        "    axs[1].plot(lapse_time, pred_arrival[j,0,:], c='red', lw=0.6, alpha=0.5)\n",
        "\n",
        "  title = f'True Pola = {true_pola}  Pred. Pola = {pred_pola}  IQR = {IQR:.3f}'\n",
        "  axs[0].set_title(title)\n",
        "\n",
        "  axs[1].set_ylim(0,1)\n",
        "\n",
        "  axs[1].set_xlabel('Time (s)')\n",
        "\n",
        "  axs[0].set_ylabel('Amp.')\n",
        "  axs[1].set_ylabel('Probability')\n",
        "\n",
        "  for k in range(2):\n",
        "    axs[k].axvline(x=lapse_time[true_arrival], c='blue', label='True Arrival')\n",
        "    axs[k].axvline(x=lapse_time[int(pred_arrival_index)], c='red', label='Pred Arrival')\n",
        "\n",
        "  plt.legend(loc='lower center', bbox_to_anchor=(0.5, -0.7), frameon=False, ncol=2, fontsize=12)\n",
        "\n",
        "  plt.show()\n",
        "  plt.close()\n",
        "\n",
        "  print('------------------------------------------------------------------')\n",
        "\n"
      ],
      "metadata": {
        "id": "sa1HHvl5uY6a"
      },
      "execution_count": null,
      "outputs": []
    },
    {
      "cell_type": "code",
      "source": [],
      "metadata": {
        "id": "2tEBYnH85PWt"
      },
      "execution_count": null,
      "outputs": []
    }
  ]
}